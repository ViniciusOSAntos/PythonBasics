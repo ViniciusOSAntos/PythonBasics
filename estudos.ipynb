{
 "cells": [
  {
   "cell_type": "markdown",
   "id": "d8999740-59bc-4584-a852-78d394ef1456",
   "metadata": {},
   "source": [
    "# Aula 8\n",
    "## Estudo sobre módulos"
   ]
  },
  {
   "cell_type": "code",
   "execution_count": 2,
   "id": "9db10969-9ea5-407a-8c4e-f7ba69661722",
   "metadata": {},
   "outputs": [
    {
     "name": "stdin",
     "output_type": "stream",
     "text": [
      "Digite um número:  9\n"
     ]
    },
    {
     "name": "stdout",
     "output_type": "stream",
     "text": [
      "A raiz de 9 é igual 3.0:\n"
     ]
    }
   ],
   "source": [
    "import math\n",
    "num = int(input('Digite um número: '))\n",
    "raiz = math.sqrt(num)\n",
    "print(f'A raiz de {num} é igual {raiz}:')"
   ]
  },
  {
   "cell_type": "code",
   "execution_count": null,
   "id": "2a8ac9b0-764e-42da-9f67-22ff1d9b765c",
   "metadata": {},
   "outputs": [],
   "source": []
  }
 ],
 "metadata": {
  "kernelspec": {
   "display_name": "Python 3 (ipykernel)",
   "language": "python",
   "name": "python3"
  },
  "language_info": {
   "codemirror_mode": {
    "name": "ipython",
    "version": 3
   },
   "file_extension": ".py",
   "mimetype": "text/x-python",
   "name": "python",
   "nbconvert_exporter": "python",
   "pygments_lexer": "ipython3",
   "version": "3.9.12"
  }
 },
 "nbformat": 4,
 "nbformat_minor": 5
}
