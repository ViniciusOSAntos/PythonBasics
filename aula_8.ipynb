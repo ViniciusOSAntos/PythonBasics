{
 "cells": [
  {
   "cell_type": "markdown",
   "id": "d8999740-59bc-4584-a852-78d394ef1456",
   "metadata": {},
   "source": [
    "# Aula 8\n",
    "## Estudo sobre módulos"
   ]
  },
  {
   "cell_type": "code",
   "execution_count": 1,
   "id": "9db10969-9ea5-407a-8c4e-f7ba69661722",
   "metadata": {},
   "outputs": [
    {
     "name": "stdin",
     "output_type": "stream",
     "text": [
      "Digite um número:  9\n"
     ]
    },
    {
     "name": "stdout",
     "output_type": "stream",
     "text": [
      "A raiz de 9 é igual 3.00:\n"
     ]
    }
   ],
   "source": [
    "import math\n",
    "num = int(input('Digite um número: '))\n",
    "raiz = math.sqrt(num)\n",
    "print(f'A raiz de {num} é igual {raiz:.2f}:')"
   ]
  },
  {
   "cell_type": "code",
   "execution_count": 9,
   "id": "2a8ac9b0-764e-42da-9f67-22ff1d9b765c",
   "metadata": {},
   "outputs": [
    {
     "name": "stdin",
     "output_type": "stream",
     "text": [
      "Digite um número:  29\n"
     ]
    },
    {
     "name": "stdout",
     "output_type": "stream",
     "text": [
      "A raiz de 29 é igual 5.00:\n"
     ]
    }
   ],
   "source": [
    "from math import sqrt, floor\n",
    "num = int(input('Digite um número: '))\n",
    "raiz = sqrt(num)\n",
    "print(f'A raiz de {num} é igual {floor(raiz):.2f}:')"
   ]
  },
  {
   "cell_type": "code",
   "execution_count": 10,
   "id": "fefb939c-e162-48a2-9dce-0dcbd4d2f61d",
   "metadata": {},
   "outputs": [
    {
     "name": "stdout",
     "output_type": "stream",
     "text": [
      "0.21578741282871672\n"
     ]
    }
   ],
   "source": [
    "import random \n",
    "num = random.random()\n",
    "print(num)"
   ]
  },
  {
   "cell_type": "code",
   "execution_count": 12,
   "id": "3be7ec01-4d61-459a-bcbf-2b198dcfe43f",
   "metadata": {},
   "outputs": [
    {
     "name": "stdout",
     "output_type": "stream",
     "text": [
      "4\n"
     ]
    }
   ],
   "source": [
    "import random \n",
    "num = random.randint(1, 10)\n",
    "print(num)"
   ]
  },
  {
   "cell_type": "code",
   "execution_count": 18,
   "id": "032673e5-3e7c-4373-897a-b056d2107512",
   "metadata": {},
   "outputs": [
    {
     "name": "stdout",
     "output_type": "stream",
     "text": [
      "Olá Mundo 🌎\n"
     ]
    }
   ],
   "source": [
    "#!pip install emoji\n",
    "# https://carpedm20.github.io/emoji/\n",
    "import emoji\n",
    "print(emoji.emojize(\"Olá Mundo :globe_showing_Americas:\"))"
   ]
  },
  {
   "cell_type": "markdown",
   "id": "fc834534-385b-41e0-bb9b-b20c901f304d",
   "metadata": {},
   "source": [
    "# Desafios"
   ]
  },
  {
   "cell_type": "code",
   "execution_count": 21,
   "id": "2c841f2c-5164-4d60-8ce5-992500b59a0d",
   "metadata": {},
   "outputs": [
    {
     "name": "stdin",
     "output_type": "stream",
     "text": [
      "Entre com o número: 14.5\n"
     ]
    },
    {
     "name": "stdout",
     "output_type": "stream",
     "text": [
      "14\n"
     ]
    }
   ],
   "source": [
    "# 016\n",
    "n = math.trunc(float(input(\"Entre com o número:\")))\n",
    "print(n)"
   ]
  },
  {
   "cell_type": "code",
   "execution_count": 5,
   "id": "b9adf5d1-2d34-49ba-b750-f2de8da6f674",
   "metadata": {},
   "outputs": [
    {
     "name": "stdin",
     "output_type": "stream",
     "text": [
      "Entre com o cateto oposto: 3\n",
      "Entre com o cateto adjacente: 4\n"
     ]
    },
    {
     "name": "stdout",
     "output_type": "stream",
     "text": [
      "5.0\n",
      "5.0\n"
     ]
    }
   ],
   "source": [
    "#17\n",
    "co = float(input(\"Entre com o cateto oposto:\"))\n",
    "ca = float(input(\"Entre com o cateto adjacente:\"))\n",
    "\n",
    "h = math.sqrt(math.pow(co,2) + math.pow(ca,2))\n",
    "print(h)\n",
    "\n",
    "print(math.hypot(co, ca))"
   ]
  },
  {
   "cell_type": "code",
   "execution_count": 28,
   "id": "39d6a801-1c4a-4626-893b-6c4d7495439c",
   "metadata": {},
   "outputs": [
    {
     "name": "stdin",
     "output_type": "stream",
     "text": [
      "Entre com o ângulo: 360\n"
     ]
    },
    {
     "data": {
      "text/plain": [
       "-0.2836910914865273"
      ]
     },
     "execution_count": 28,
     "metadata": {},
     "output_type": "execute_result"
    }
   ],
   "source": [
    "#18\n",
    "a = int(input(\"Entre com o ângulo:\"))\n",
    "co = math.cos(a)\n",
    "co"
   ]
  },
  {
   "cell_type": "code",
   "execution_count": 34,
   "id": "ce0d0c58-4727-46f3-8329-0109764571b4",
   "metadata": {},
   "outputs": [
    {
     "name": "stdin",
     "output_type": "stream",
     "text": [
      "Entre com o nome do aluno 1:  Hashirama\n",
      "Entre com o nome do aluno 2:  Vinicin\n",
      "Entre com o nome do aluno 3:  Minguel\n",
      "Entre com o nome do aluno 4:  Robin\n"
     ]
    },
    {
     "name": "stdout",
     "output_type": "stream",
     "text": [
      "O Aluno Vinicin irá apagar o quadro\n"
     ]
    }
   ],
   "source": [
    "#19\n",
    "alunos = []\n",
    "for i in range(4):\n",
    "    alunos.append(input(f\"Entre com o nome do aluno {i + 1}: \"))\n",
    "sorteio = random.randint(1, 4)\n",
    "print(f\"O Aluno {alunos[sorteio]} irá apagar o quadro\")"
   ]
  },
  {
   "cell_type": "code",
   "execution_count": 36,
   "id": "fbd1cd77-606b-4528-9a93-f08d8ed5ed27",
   "metadata": {},
   "outputs": [
    {
     "name": "stdout",
     "output_type": "stream",
     "text": [
      "['Minguel', 'Hashirama', 'Robin', 'Vinicin']\n"
     ]
    }
   ],
   "source": [
    "#20\n",
    "random.shuffle(alunos)\n",
    "print(alunos)"
   ]
  },
  {
   "cell_type": "code",
   "execution_count": 43,
   "id": "b30fa041-6871-4be3-bcb2-5e5043be4e04",
   "metadata": {},
   "outputs": [
    {
     "data": {
      "text/plain": [
       "<Event(4352-AudioDeviceAdded {'which': 0, 'iscapture': 0})>"
      ]
     },
     "execution_count": 43,
     "metadata": {},
     "output_type": "execute_result"
    }
   ],
   "source": [
    "# !pip install pygame\n",
    "import pygame\n",
    "\n",
    "pygame.init()\n",
    "pygame.mixer.music.load('../extra/05 - Physical Education.mp3')\n",
    "pygame.mixer.music.play()\n",
    "pygame.event.wait(5)"
   ]
  },
  {
   "cell_type": "code",
   "execution_count": null,
   "id": "e28458c9-d62b-47f2-b9ba-ece6184af811",
   "metadata": {},
   "outputs": [],
   "source": []
  }
 ],
 "metadata": {
  "kernelspec": {
   "display_name": "Python 3 (ipykernel)",
   "language": "python",
   "name": "python3"
  },
  "language_info": {
   "codemirror_mode": {
    "name": "ipython",
    "version": 3
   },
   "file_extension": ".py",
   "mimetype": "text/x-python",
   "name": "python",
   "nbconvert_exporter": "python",
   "pygments_lexer": "ipython3",
   "version": "3.9.12"
  }
 },
 "nbformat": 4,
 "nbformat_minor": 5
}
