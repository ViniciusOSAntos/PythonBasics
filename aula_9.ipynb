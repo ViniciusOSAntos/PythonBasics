{
 "cells": [
  {
   "cell_type": "markdown",
   "id": "d5bdab8e-d5d5-4486-ad13-793ce63fa0b5",
   "metadata": {},
   "source": [
    "# Aula 9 \n",
    "### Manipulando Cadeias de Textos\n",
    "Famosa String"
   ]
  },
  {
   "cell_type": "code",
   "execution_count": 1,
   "id": "71cea9e4-5009-4e20-8faa-bfa4207745ff",
   "metadata": {},
   "outputs": [
    {
     "name": "stdout",
     "output_type": "stream",
     "text": [
      "Curso em Vídeo Python\n",
      "s\n",
      "so em Víde\n",
      "Curso em Víde\n",
      "us mVdo\n",
      "us mVdoPto\n",
      "Croe íe yhn\n"
     ]
    }
   ],
   "source": [
    "frase = 'Curso em Vídeo Python'\n",
    "print(frase)\n",
    "print(frase[3])\n",
    "print(frase[3:13])\n",
    "print(frase[:13])\n",
    "print(frase[1:15:2])\n",
    "print(frase[1::2])\n",
    "print(frase[::2])"
   ]
  },
  {
   "cell_type": "code",
   "execution_count": 3,
   "id": "0eb541e6-0185-4db7-b060-84b9a3ba9e0b",
   "metadata": {},
   "outputs": [
    {
     "name": "stdout",
     "output_type": "stream",
     "text": [
      "3\n",
      "0\n",
      "3\n",
      "21\n",
      "21\n",
      "Curso em Vídeo Android\n",
      "-1\n",
      "9\n"
     ]
    }
   ],
   "source": [
    "print(frase.count('o'))\n",
    "print(frase.count('O'))\n",
    "print(frase.upper().count('O'))\n",
    "print(len(frase))\n",
    "print(len(frase.strip()))\n",
    "print(frase.replace('Python', 'Android'))\n",
    "print(frase.find('Video'))\n",
    "print(frase.find('Vídeo'))"
   ]
  },
  {
   "cell_type": "code",
   "execution_count": 7,
   "id": "0af0ca43-7f17-49d2-a851-f63ec10de53c",
   "metadata": {},
   "outputs": [
    {
     "name": "stdout",
     "output_type": "stream",
     "text": [
      "['Curso', 'em', 'Vídeo', 'Python']\n",
      "Curso\n",
      "e\n"
     ]
    }
   ],
   "source": [
    "print(frase.split())\n",
    "dividido = frase.split()\n",
    "print(dividido[0])\n",
    "print(dividido[2][3])"
   ]
  },
  {
   "cell_type": "markdown",
   "id": "56c03040-b705-4f25-a9fb-c80956d657b6",
   "metadata": {},
   "source": [
    "# Exercícios "
   ]
  },
  {
   "cell_type": "code",
   "execution_count": 32,
   "id": "a098f30e-a6e8-4934-b301-2c60f5484024",
   "metadata": {},
   "outputs": [
    {
     "name": "stdin",
     "output_type": "stream",
     "text": [
      "Entre com o nome completo: Vinicius Oliveira dos Santos\n"
     ]
    },
    {
     "name": "stdout",
     "output_type": "stream",
     "text": [
      "VINICIUS OLIVEIRA DOS SANTOS\n",
      "vinicius oliveira dos santos\n",
      "ViniciusOliveiradosSantos\n",
      "25\n",
      "8\n"
     ]
    }
   ],
   "source": [
    "#22\n",
    "nome = input(\"Entre com o nome completo:\")\n",
    "print(nome.upper())\n",
    "print(nome.lower())\n",
    "nome_split = nome.split()\n",
    "nome_join = ''.join(nome_split)\n",
    "print(nome_join)\n",
    "print(len(nome_join))\n",
    "print(len(nome_split[1]))"
   ]
  },
  {
   "cell_type": "code",
   "execution_count": 37,
   "id": "4a1a60cb-5603-425f-bd11-f1cfcdd1f3b5",
   "metadata": {},
   "outputs": [
    {
     "name": "stdin",
     "output_type": "stream",
     "text": [
      "Entre com número de 0 a 9999: 1834\n"
     ]
    },
    {
     "name": "stdout",
     "output_type": "stream",
     "text": [
      "Unidade: 4\n",
      "Dezena: 3\n",
      "Centena: 8\n",
      "Milhar: 1\n"
     ]
    }
   ],
   "source": [
    "#23\n",
    "#String\n",
    "num_string = str(input(\"Entre com número de 0 a 9999:\"))\n",
    "print(f\"Unidade: {num_string[3]}\")\n",
    "print(f\"Dezena: {num_string[2]}\")\n",
    "print(f\"Centena: {num_string[1]}\")\n",
    "print(f\"Milhar: {num_string[0]}\")"
   ]
  },
  {
   "cell_type": "code",
   "execution_count": 39,
   "id": "c34747d9-efe6-4665-9a72-3a165e528b62",
   "metadata": {},
   "outputs": [
    {
     "name": "stdin",
     "output_type": "stream",
     "text": [
      "Entre com número de 0 a 9999: 1834\n"
     ]
    },
    {
     "name": "stdout",
     "output_type": "stream",
     "text": [
      "Unidade: 4\n",
      "Dezena: 3\n",
      "Centena: 8\n",
      "Milhar: 1\n"
     ]
    }
   ],
   "source": [
    "#23\n",
    "#Matematicamente \n",
    "\n",
    "num_mat = int(input(\"Entre com número de 0 a 9999:\"))\n",
    "u = num_mat // 1 % 10\n",
    "d = num_mat // 10 % 10\n",
    "c = num_mat // 100 % 10\n",
    "m = num_mat // 1000 % 10\n",
    "\n",
    "print(f\"Unidade: {u}\")\n",
    "print(f\"Dezena: {d}\")\n",
    "print(f\"Centena: {c}\")\n",
    "print(f\"Milhar: {m}\")"
   ]
  },
  {
   "cell_type": "code",
   "execution_count": 47,
   "id": "29002ec3-b7ff-4386-97c0-a4311571a713",
   "metadata": {},
   "outputs": [
    {
     "name": "stdin",
     "output_type": "stream",
     "text": [
      "Entre com o nome da cidade Santo André\n"
     ]
    },
    {
     "name": "stdout",
     "output_type": "stream",
     "text": [
      "Começa com Santo!\n"
     ]
    }
   ],
   "source": [
    "#24\n",
    "cidade = input(\"Entre com o nome da cidade\")\n",
    "cidade = cidade.split()\n",
    "if (cidade[0].capitalize() == 'Santo'):\n",
    "    print('Começa com Santo!')"
   ]
  },
  {
   "cell_type": "code",
   "execution_count": 53,
   "id": "de2b0ea9-b154-4f30-8125-217a54dd69da",
   "metadata": {},
   "outputs": [
    {
     "name": "stdin",
     "output_type": "stream",
     "text": [
      "Entre com o nome: Santos Silva\n"
     ]
    },
    {
     "name": "stdout",
     "output_type": "stream",
     "text": [
      "Tem 'Silva' !\n"
     ]
    }
   ],
   "source": [
    "#25\n",
    "nome = input(\"Entre com o nome:\")\n",
    "nome = nome.title()\n",
    "nome_silva = nome.find('Silva')\n",
    "if(nome_silva >= 0):\n",
    "    print(\"Tem 'Silva' !\")"
   ]
  },
  {
   "cell_type": "code",
   "execution_count": 66,
   "id": "c9514055-2ca3-4f67-ab94-ff1a4cbc4c2d",
   "metadata": {},
   "outputs": [
    {
     "name": "stdin",
     "output_type": "stream",
     "text": [
      "Entre com uma frase:  Arara Azul\n"
     ]
    },
    {
     "name": "stdout",
     "output_type": "stream",
     "text": [
      "2\n",
      "0\n",
      "10\n",
      "0\n",
      "6\n"
     ]
    }
   ],
   "source": [
    "#26\n",
    "frase = input(\"Entre com uma frase: \")\n",
    "print(frase.count('a'))\n",
    "count = 0\n",
    "# Utilizando find para achar o primeiro e o último 'a'\n",
    "print(frase.upper().find('A'))\n",
    "print(frase.upper().rfind('A'))"
   ]
  },
  {
   "cell_type": "code",
   "execution_count": 62,
   "id": "5705c992-dff8-47a9-b9bf-a6682bc03d51",
   "metadata": {},
   "outputs": [
    {
     "name": "stdin",
     "output_type": "stream",
     "text": [
      "Entre com uma nome:  Vinicius Oliveira dos Santos\n"
     ]
    },
    {
     "name": "stdout",
     "output_type": "stream",
     "text": [
      "Primeiro: Vinicius\n",
      "Último: Santos\n"
     ]
    }
   ],
   "source": [
    "#27\n",
    "nome = input(\"Entre com uma nome: \")\n",
    "nome_split = nome.split()\n",
    "print(f\"Primeiro: {nome_split[0]}\")\n",
    "print(f\"Último: {nome_split[-1]}\")"
   ]
  },
  {
   "cell_type": "code",
   "execution_count": null,
   "id": "b722b49f-340a-4eb2-b327-147485829ff9",
   "metadata": {},
   "outputs": [],
   "source": []
  }
 ],
 "metadata": {
  "kernelspec": {
   "display_name": "Python 3 (ipykernel)",
   "language": "python",
   "name": "python3"
  },
  "language_info": {
   "codemirror_mode": {
    "name": "ipython",
    "version": 3
   },
   "file_extension": ".py",
   "mimetype": "text/x-python",
   "name": "python",
   "nbconvert_exporter": "python",
   "pygments_lexer": "ipython3",
   "version": "3.9.12"
  }
 },
 "nbformat": 4,
 "nbformat_minor": 5
}
